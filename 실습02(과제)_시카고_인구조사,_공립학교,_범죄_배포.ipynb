{
  "cells": [
    {
      "cell_type": "markdown",
      "metadata": {
        "id": "view-in-github",
        "colab_type": "text"
      },
      "source": [
        "<a href=\"https://colab.research.google.com/github/424on/DB/blob/main/%E1%84%89%E1%85%B5%E1%86%AF%E1%84%89%E1%85%B3%E1%86%B802(%E1%84%80%E1%85%AA%E1%84%8C%E1%85%A6)_%E1%84%89%E1%85%B5%E1%84%8F%E1%85%A1%E1%84%80%E1%85%A9_%E1%84%8B%E1%85%B5%E1%86%AB%E1%84%80%E1%85%AE%E1%84%8C%E1%85%A9%E1%84%89%E1%85%A1%2C_%E1%84%80%E1%85%A9%E1%86%BC%E1%84%85%E1%85%B5%E1%86%B8%E1%84%92%E1%85%A1%E1%86%A8%E1%84%80%E1%85%AD%2C_%E1%84%87%E1%85%A5%E1%86%B7%E1%84%8C%E1%85%AC_%E1%84%87%E1%85%A2%E1%84%91%E1%85%A9.ipynb\" target=\"_parent\"><img src=\"https://colab.research.google.com/assets/colab-badge.svg\" alt=\"Open In Colab\"/></a>"
      ]
    },
    {
      "cell_type": "markdown",
      "metadata": {
        "id": "I0RhdmG7H37p"
      },
      "source": [
        "# 소개\n",
        "\n",
        "이 Python notebook 을 사용하여 다음을 수행한다:\n",
        "\n",
        "1. 시카고의 세 가지 데이터 세트를 이해한다  \n",
        "2. 세 가지 데이터 세트를 SQLite 데이터베이스의 세 개 테이블에 로드한다  \n",
        "3. SQL 쿼리를 실행하여 과제 질문에 답한다  \n"
      ]
    },
    {
      "cell_type": "markdown",
      "metadata": {
        "id": "VAz5Iwp4H37q"
      },
      "source": [
        "## 데이터 세트 이해하기\n",
        "\n",
        "이 노트북의 과제를 완료하려면 시카고 데이터 포털에서 제공하는 다음 세 가지 데이터 세트를 사용해야 한다:\n",
        "\n",
        "1.  <a href=\"https://data.cityofchicago.org/Health-Human-Services/Census-Data-Selected-socioeconomic-indicators-in-C/kn9c-c2s2?utm_medium=Exinfluencer&utm_source=Exinfluencer&utm_content=000026UJ&utm_term=10006555&utm_id=NA-SkillsNetwork-Channel-SkillsNetworkCoursesIBMDeveloperSkillsNetworkDB0201ENSkillsNetwork20127838-2021-01-01\">Socioeconomic Indicators in Chicago</a>  \n",
        "2.  <a href=\"https://data.cityofchicago.org/Education/Chicago-Public-Schools-Progress-Report-Cards-2011-/9xs2-f89t?utm_medium=Exinfluencer&utm_source=Exinfluencer&utm_content=000026UJ&utm_term=10006555&utm_id=NA-SkillsNetwork-Channel-SkillsNetworkCoursesIBMDeveloperSkillsNetworkDB0201ENSkillsNetwork20127838-2021-01-01\">Chicago Public Schools</a>  \n",
        "3.  <a href=\"https://data.cityofchicago.org/Public-Safety/Crimes-2001-to-present/ijzp-q8t2?utm_medium=Exinfluencer&utm_source=Exinfluencer&utm_content=000026UJ&utm_term=10006555&utm_id=NA-SkillsNetwork-Channel-SkillsNetworkCoursesIBMDeveloperSkillsNetworkDB0201ENSkillsNetwork20127838-2021-01-01\">Chicago Crime Data</a>  \n",
        "\n",
        "### 1. Socioeconomic Indicators in Chicago(시카고의 사회경제적 지표)\n",
        "\n",
        "이 데이터 세트에는 공중 보건과 관련된 6가지 사회경제적 지표와 2008-2012년 동안 각 시카고 커뮤니티 지역의 \"Hardship Index\"가 포함되어 있다.\n",
        "\n",
        "이 데이터 세트에 대한 자세한 설명과 원본 데이터 세트는 시카고 데이터 포털에서 확인할 수 있다:  \n",
        "\n",
        "[https://data.cityofchicago.org/Health-Human-Services/Census-Data-Selected-socioeconomic-indicators-in-C/kn9c-c2s2](https://data.cityofchicago.org/Health-Human-Services/Census-Data-Selected-socioeconomic-indicators-in-C/kn9c-c2s2?utm_medium=Exinfluencer&utm_source=Exinfluencer&utm_content=000026UJ&utm_term=10006555&utm_id=NA-SkillsNetwork-Channel-SkillsNetworkCoursesIBMDeveloperSkillsNetworkDB0201ENSkillsNetwork20127838-2021-01-01&cm_mmc=Email_Newsletter-\\_-Developer_Ed%2BTech-\\_-WW_WW-\\_-SkillsNetwork-Courses-IBMDeveloperSkillsNetwork-DB0201EN-SkillsNetwork-20127838&cm_mmca1=000026UJ&cm_mmca2=10006555&cm_mmca3=M12345678&cvosrc=email.Newsletter.M12345678&cvo_campaign=000026UJ)\n",
        "\n",
        "### 2. Chicago Public Schools(시카고 공립학교)\n",
        "\n",
        "이 데이터 세트는 2011-2012 학년도 CPS 학교 보고서 카드를 생성하는 데 사용된 모든 학교 수준의 성과 데이터를 보여준다. 이 데이터 세트는 시카고 데이터 포털에서 제공된다.\n",
        "\n",
        "이 데이터 세트에 대한 자세한 설명과 원본 데이터 세트는 시카고 데이터 포털에서 확인할 수 있다:  \n",
        "\n",
        "[https://data.cityofchicago.org/Education/Chicago-Public-Schools-Progress-Report-Cards-2011-/9xs2-f89t](https://data.cityofchicago.org/Education/Chicago-Public-Schools-Progress-Report-Cards-2011-/9xs2-f89t?utm_medium=Exinfluencer&utm_source=Exinfluencer&utm_content=000026UJ&utm_term=10006555&utm_id=NA-SkillsNetwork-Channel-SkillsNetworkCoursesIBMDeveloperSkillsNetworkDB0201ENSkillsNetwork20127838-2021-01-01&cm_mmc=Email_Newsletter-\\_-Developer_Ed%2BTech-\\_-WW_WW-\\_-SkillsNetwork-Courses-IBMDeveloperSkillsNetwork-DB0201EN-SkillsNetwork-20127838&cm_mmca1=000026UJ&cm_mmca2=10006555&cm_mmca3=M12345678&cvosrc=email.Newsletter.M12345678&cvo_campaign=000026UJ)\n",
        "\n",
        "### 3. Chicago Crime Data(시카고 범죄 데이터)\n",
        "\n",
        "이 데이터 세트는 2001년부터 현재까지 시카고 시에서 발생한 범죄(피해자별 데이터를 포함한 살인 사건은 제외)를 반영하며, 최신 7일간의 데이터는 제외되어 있다.\n",
        "\n",
        "이 데이터 세트에 대한 자세한 설명과 원본 데이터 세트는 시카고 데이터 포털에서 확인할 수 있다:  \n",
        "\n",
        "[https://data.cityofchicago.org/Public-Safety/Crimes-2001-to-present/ijzp-q8t2](https://data.cityofchicago.org/Public-Safety/Crimes-2001-to-present/ijzp-q8t2?utm_medium=Exinfluencer&utm_source=Exinfluencer&utm_content=000026UJ&utm_term=10006555&utm_id=NA-SkillsNetwork-Channel-SkillsNetworkCoursesIBMDeveloperSkillsNetworkDB0201ENSkillsNetwork20127838-2021-01-01&cm_mmc=Email_Newsletter-\\_-Developer_Ed%2BTech-\\_-WW_WW-\\_-SkillsNetwork-Courses-IBMDeveloperSkillsNetwork-DB0201EN-SkillsNetwork-20127838&cm_mmca1=000026UJ&cm_mmca2=10006555&cm_mmca3=M12345678&cvosrc=email.Newsletter.M12345678&cvo_campaign=000026UJ)\n"
      ]
    },
    {
      "cell_type": "markdown",
      "metadata": {
        "id": "rg3X7801H37q"
      },
      "source": [
        "### 데이터 세트 다운로드\n",
        "\n",
        "이 과제는 전체 데이터 세트의 하위 집합으로 채워진 세 개의 테이블이 필요하다.\n",
        "\n",
        "분석할 데이터 세트는 일반적으로 인터넷에서 제공되는 .CSV(쉼표로 구분된 값) 파일 형식으로 제공되는 경우가 많다.\n",
        "\n",
        "아래 링크를 사용하여 Pandas 라이브러리를 이용해 데이터 파일을 읽어라.\n",
        "\n",
        "- 시카고 인구 조사 데이터  \n",
        "[Chicago Census Data](https://cf-courses-data.s3.us.cloud-object-storage.appdomain.cloud/IBMDeveloperSkillsNetwork-DB0201EN-SkillsNetwork/labs/FinalModule_Coursera_V5/data/ChicagoCensusData.csv?utm_medium=Exinfluencer&utm_source=Exinfluencer&utm_content=000026UJ&utm_term=10006555&utm_id=NA-SkillsNetwork-Channel-SkillsNetworkCoursesIBMDeveloperSkillsNetworkDB0201ENSkillsNetwork20127838-2021-01-01)\n",
        "\n",
        "- 시카고 공립학교  \n",
        "[Chicago Public Schools](https://cf-courses-data.s3.us.cloud-object-storage.appdomain.cloud/IBMDeveloperSkillsNetwork-DB0201EN-SkillsNetwork/labs/FinalModule_Coursera_V5/data/ChicagoPublicSchools.csv?utm_medium=Exinfluencer&utm_source=Exinfluencer&utm_content=000026UJ&utm_term=10006555&utm_id=NA-SkillsNetwork-Channel-SkillsNetworkCoursesIBMDeveloperSkillsNetworkDB0201ENSkillsNetwork20127838-2021-01-01)\n",
        "\n",
        "- 시카고 범죄 데이터  \n",
        "[Chicago Crime Data](https://cf-courses-data.s3.us.cloud-object-storage.appdomain.cloud/IBMDeveloperSkillsNetwork-DB0201EN-SkillsNetwork/labs/FinalModule_Coursera_V5/data/ChicagoCrimeData.csv?utm_medium=Exinfluencer&utm_source=Exinfluencer&utm_content=000026UJ&utm_term=10006555&utm_id=NA-SkillsNetwork-Channel-SkillsNetworkCoursesIBMDeveloperSkillsNetworkDB0201ENSkillsNetwork20127838-2021-01-01)\n",
        "\n",
        "**참고:**  \n",
        "위 링크에 있는 데이터 세트를 사용하고 시카고 데이터 포털에서 직접 다운로드하지 않도록 하라. 여기 제공된 버전은 원본 데이터 세트의 하위 집합으로, 일부 열 이름이 데이터베이스에 더 친화적이도록 수정되어 이 과제를 완료하기 더 쉬울 것이다.\n"
      ]
    },
    {
      "cell_type": "markdown",
      "metadata": {
        "id": "GjlM9DN-H37q"
      },
      "source": [
        "### 데이터 세트를 데이터베이스 테이블에 저장하기\n",
        "\n",
        "SQL을 사용하여 데이터를 분석하려면 먼저 SQLite DB에 데이터를 로드해야 한다.  \n",
        "다음과 같이 세 개의 테이블을 생성할 것이다:\n",
        "\n",
        "1.  **CENSUS_DATA**  \n",
        "2.  **CHICAGO_PUBLIC_SCHOOLS**  \n",
        "3.  **CHICAGO_CRIME_DATA**  \n"
      ]
    },
    {
      "cell_type": "markdown",
      "metadata": {
        "id": "JIUea8x6H37r"
      },
      "source": [
        "`pandas`와 `sqlite3` 라이브러리를 로드하고 `FinalDB.db`에 연결을 설정하자."
      ]
    },
    {
      "cell_type": "code",
      "execution_count": 1,
      "metadata": {
        "tags": [],
        "id": "hSap-bY4H37r"
      },
      "outputs": [],
      "source": [
        "import csv, sqlite3\n",
        "\n",
        "con = sqlite3.connect(\"FinalDB.db\")\n",
        "cur = con.cursor()"
      ]
    },
    {
      "cell_type": "markdown",
      "metadata": {
        "id": "ssnxaWnDH37s"
      },
      "source": [
        "Load the SQL magic module\n"
      ]
    },
    {
      "cell_type": "code",
      "execution_count": 2,
      "metadata": {
        "tags": [],
        "id": "n8nPb5xbH37s"
      },
      "outputs": [],
      "source": [
        "%load_ext sql\n",
        "%sql sqlite:///FinalDB.db"
      ]
    },
    {
      "cell_type": "markdown",
      "metadata": {
        "id": "LE3buRXoH37s"
      },
      "source": [
        "위 링크에서 제공된 데이터를 `Pandas`를 사용하여 데이터프레임으로 로드하라.  \n",
        "이 데이터프레임을 사용하여 데이터베이스 `FinalDB.db`에 필요한 테이블로 데이터를 로드하라."
      ]
    },
    {
      "cell_type": "code",
      "execution_count": 3,
      "metadata": {
        "tags": [],
        "colab": {
          "base_uri": "https://localhost:8080/"
        },
        "id": "Stj4oSHeH37t",
        "outputId": "f57652ad-a6ef-41df-ffdc-260e7def2640"
      },
      "outputs": [
        {
          "output_type": "execute_result",
          "data": {
            "text/plain": [
              "533"
            ]
          },
          "metadata": {},
          "execution_count": 3
        }
      ],
      "source": [
        "import pandas as pd\n",
        "df = pd.read_csv(\"https://cf-courses-data.s3.us.cloud-object-storage.appdomain.cloud/IBMDeveloperSkillsNetwork-DB0201EN-SkillsNetwork/labs/FinalModule_Coursera_V5/data/ChicagoCensusData.csv?utm_medium=Exinfluencer&utm_source=Exinfluencer&utm_content=000026UJ&utm_term=10006555&utm_id=NA-SkillsNetwork-Channel-SkillsNetworkCoursesIBMDeveloperSkillsNetworkDB0201ENSkillsNetwork20127838-2021-01-01\")\n",
        "df.to_sql(\"CENSUS_DATA\", con, if_exists='replace', index=False, method=\"multi\")\n",
        "\n",
        "df = pd.read_csv(\"https://cf-courses-data.s3.us.cloud-object-storage.appdomain.cloud/IBMDeveloperSkillsNetwork-DB0201EN-SkillsNetwork/labs/FinalModule_Coursera_V5/data/ChicagoPublicSchools.csv?utm_medium=Exinfluencer&utm_source=Exinfluencer&utm_content=000026UJ&utm_term=10006555&utm_id=NA-SkillsNetwork-Channel-SkillsNetworkCoursesIBMDeveloperSkillsNetworkDB0201ENSkillsNetwork20127838-2021-01-01\")\n",
        "df.to_sql(\"CHICAGO_PUBLIC_SCHOOLS\", con, if_exists='replace', index=False, method=\"multi\")\n",
        "\n",
        "df = pd.read_csv(\"https://cf-courses-data.s3.us.cloud-object-storage.appdomain.cloud/IBMDeveloperSkillsNetwork-DB0201EN-SkillsNetwork/labs/FinalModule_Coursera_V5/data/ChicagoCrimeData.csv?utm_medium=Exinfluencer&utm_source=Exinfluencer&utm_content=000026UJ&utm_term=10006555&utm_id=NA-SkillsNetwork-Channel-SkillsNetworkCoursesIBMDeveloperSkillsNetworkDB0201ENSkillsNetwork20127838-2021-01-01\")\n",
        "df.to_sql(\"CHICAGO_CRIME_DATA\", con, if_exists='replace', index=False, method=\"multi\")"
      ]
    },
    {
      "cell_type": "markdown",
      "metadata": {
        "id": "6KH_RpI2H37t"
      },
      "source": [
        "SQL magic 모듈과 데이터베이스 `FinalDB.db` 간의 연결을 설정하자.\n"
      ]
    },
    {
      "cell_type": "code",
      "execution_count": 4,
      "metadata": {
        "tags": [],
        "id": "oDYDLe_YH37t"
      },
      "outputs": [],
      "source": [
        "%sql sqlite:///FinalDB.db"
      ]
    },
    {
      "cell_type": "markdown",
      "metadata": {
        "id": "2cOEDgidH37t"
      },
      "source": [
        "이제 아래 질문들에 답할 준비가 되었다.  \n",
        "문제에 대한 답변뿐만 아니라 작성한 코드도 저장하자."
      ]
    },
    {
      "cell_type": "markdown",
      "metadata": {
        "id": "4L-AWSInH37t"
      },
      "source": [
        "## Problems\n",
        "\n",
        "Now write and execute SQL queries to solve assignment problems\n",
        "\n",
        "### Problem 1\n",
        "\n",
        "##### Find the total number of crimes recorded in the CRIME table.\n",
        "##### CRAME 테이블에 기록된 총 범죄 수"
      ]
    },
    {
      "cell_type": "code",
      "source": [
        "%config SqlMagic.style = '_DEPRECATED_DEFAULT'"
      ],
      "metadata": {
        "id": "f_G6-bBIQrgL"
      },
      "execution_count": 8,
      "outputs": []
    },
    {
      "cell_type": "code",
      "execution_count": 7,
      "metadata": {
        "tags": [],
        "colab": {
          "base_uri": "https://localhost:8080/",
          "height": 97
        },
        "id": "k07U63trH37t",
        "outputId": "12e1dc5b-9126-435c-8e6d-f41dac1e587c"
      },
      "outputs": [
        {
          "output_type": "stream",
          "name": "stdout",
          "text": [
            " * sqlite:///FinalDB.db\n",
            "Done.\n"
          ]
        },
        {
          "output_type": "execute_result",
          "data": {
            "text/plain": [
              "[(533,)]"
            ],
            "text/html": [
              "<table>\n",
              "    <thead>\n",
              "        <tr>\n",
              "            <th>COUNT(*)</th>\n",
              "        </tr>\n",
              "    </thead>\n",
              "    <tbody>\n",
              "        <tr>\n",
              "            <td>533</td>\n",
              "        </tr>\n",
              "    </tbody>\n",
              "</table>"
            ]
          },
          "metadata": {},
          "execution_count": 7
        }
      ],
      "source": [
        "%sql SELECT COUNT(*) from CHICAGO_CRIME_DATA"
      ]
    },
    {
      "cell_type": "markdown",
      "metadata": {
        "id": "2jBdcASZH37t"
      },
      "source": [
        "### Problem 2\n",
        "\n",
        "##### List community area names and numbers with per capita income less than 11000.\n",
        "##### 1인당 소득이 11000 미만인 커뮤니티 지역 이름과 번호 나열"
      ]
    },
    {
      "cell_type": "code",
      "execution_count": 9,
      "metadata": {
        "tags": [],
        "colab": {
          "base_uri": "https://localhost:8080/",
          "height": 162
        },
        "id": "DMAD65HlH37u",
        "outputId": "55b3ede9-c4b2-471f-a043-2d8e1694da42"
      },
      "outputs": [
        {
          "output_type": "stream",
          "name": "stdout",
          "text": [
            " * sqlite:///FinalDB.db\n",
            "Done.\n"
          ]
        },
        {
          "output_type": "execute_result",
          "data": {
            "text/plain": [
              "[('West Garfield Park', 10934),\n",
              " ('South Lawndale', 10402),\n",
              " ('Fuller Park', 10432),\n",
              " ('Riverdale', 8201)]"
            ],
            "text/html": [
              "<table>\n",
              "    <thead>\n",
              "        <tr>\n",
              "            <th>COMMUNITY_AREA_NAME</th>\n",
              "            <th>PER_CAPITA_INCOME</th>\n",
              "        </tr>\n",
              "    </thead>\n",
              "    <tbody>\n",
              "        <tr>\n",
              "            <td>West Garfield Park</td>\n",
              "            <td>10934</td>\n",
              "        </tr>\n",
              "        <tr>\n",
              "            <td>South Lawndale</td>\n",
              "            <td>10402</td>\n",
              "        </tr>\n",
              "        <tr>\n",
              "            <td>Fuller Park</td>\n",
              "            <td>10432</td>\n",
              "        </tr>\n",
              "        <tr>\n",
              "            <td>Riverdale</td>\n",
              "            <td>8201</td>\n",
              "        </tr>\n",
              "    </tbody>\n",
              "</table>"
            ]
          },
          "metadata": {},
          "execution_count": 9
        }
      ],
      "source": [
        "%sql SELECT COMMUNITY_AREA_NAME, PER_CAPITA_INCOME FROM CENSUS_DATA WHERE PER_CAPITA_INCOME < 11000"
      ]
    },
    {
      "cell_type": "markdown",
      "metadata": {
        "id": "jqCmPbFnH37u"
      },
      "source": [
        "### Problem 3\n",
        "\n",
        "##### List all case numbers for crimes involving minors?(children are not considered minors for the purposes of crime analysis)\n",
        "##### 미성년자 관련 범죄에 대한 모든 사건번호 나열(단, 범죄분석 목적상 아동은 미성년자로 간주하지 않음)"
      ]
    },
    {
      "cell_type": "code",
      "source": [
        "%sql select DISTINCT PRIMARY_TYPE from CHICAGO_CRIME_DATA"
      ],
      "metadata": {
        "colab": {
          "base_uri": "https://localhost:8080/",
          "height": 824
        },
        "id": "kud-YDxRokGo",
        "outputId": "19ae7e4f-fb8f-4be5-d267-d6f1bc98121d"
      },
      "execution_count": 12,
      "outputs": [
        {
          "output_type": "stream",
          "name": "stdout",
          "text": [
            " * sqlite:///FinalDB.db\n",
            "Done.\n"
          ]
        },
        {
          "output_type": "execute_result",
          "data": {
            "text/plain": [
              "[('THEFT',),\n",
              " ('BATTERY',),\n",
              " ('CRIMINAL DAMAGE',),\n",
              " ('NARCOTICS',),\n",
              " ('OTHER OFFENSE',),\n",
              " ('ASSAULT',),\n",
              " ('BURGLARY',),\n",
              " ('MOTOR VEHICLE THEFT',),\n",
              " ('DECEPTIVE PRACTICE',),\n",
              " ('ROBBERY',),\n",
              " ('CRIMINAL TRESPASS',),\n",
              " ('PROSTITUTION',),\n",
              " ('WEAPONS VIOLATION',),\n",
              " ('PUBLIC PEACE VIOLATION',),\n",
              " ('OFFENSE INVOLVING CHILDREN',),\n",
              " ('CRIM SEXUAL ASSAULT',),\n",
              " ('SEX OFFENSE',),\n",
              " ('INTERFERENCE WITH PUBLIC OFFICER',),\n",
              " ('GAMBLING',),\n",
              " ('LIQUOR LAW VIOLATION',),\n",
              " ('ARSON',),\n",
              " ('HOMICIDE',),\n",
              " ('KIDNAPPING',),\n",
              " ('INTIMIDATION',),\n",
              " ('STALKING',),\n",
              " ('OBSCENITY',),\n",
              " ('CONCEALED CARRY LICENSE VIOLATION',),\n",
              " ('PUBLIC INDECENCY',),\n",
              " ('NON-CRIMINAL',),\n",
              " ('OTHER NARCOTIC VIOLATION',),\n",
              " ('HUMAN TRAFFICKING',),\n",
              " ('NON - CRIMINAL',),\n",
              " ('RITUALISM',),\n",
              " ('NON-CRIMINAL (SUBJECT SPECIFIED)',),\n",
              " ('DOMESTIC VIOLENCE',)]"
            ],
            "text/html": [
              "<table>\n",
              "    <thead>\n",
              "        <tr>\n",
              "            <th>PRIMARY_TYPE</th>\n",
              "        </tr>\n",
              "    </thead>\n",
              "    <tbody>\n",
              "        <tr>\n",
              "            <td>THEFT</td>\n",
              "        </tr>\n",
              "        <tr>\n",
              "            <td>BATTERY</td>\n",
              "        </tr>\n",
              "        <tr>\n",
              "            <td>CRIMINAL DAMAGE</td>\n",
              "        </tr>\n",
              "        <tr>\n",
              "            <td>NARCOTICS</td>\n",
              "        </tr>\n",
              "        <tr>\n",
              "            <td>OTHER OFFENSE</td>\n",
              "        </tr>\n",
              "        <tr>\n",
              "            <td>ASSAULT</td>\n",
              "        </tr>\n",
              "        <tr>\n",
              "            <td>BURGLARY</td>\n",
              "        </tr>\n",
              "        <tr>\n",
              "            <td>MOTOR VEHICLE THEFT</td>\n",
              "        </tr>\n",
              "        <tr>\n",
              "            <td>DECEPTIVE PRACTICE</td>\n",
              "        </tr>\n",
              "        <tr>\n",
              "            <td>ROBBERY</td>\n",
              "        </tr>\n",
              "        <tr>\n",
              "            <td>CRIMINAL TRESPASS</td>\n",
              "        </tr>\n",
              "        <tr>\n",
              "            <td>PROSTITUTION</td>\n",
              "        </tr>\n",
              "        <tr>\n",
              "            <td>WEAPONS VIOLATION</td>\n",
              "        </tr>\n",
              "        <tr>\n",
              "            <td>PUBLIC PEACE VIOLATION</td>\n",
              "        </tr>\n",
              "        <tr>\n",
              "            <td>OFFENSE INVOLVING CHILDREN</td>\n",
              "        </tr>\n",
              "        <tr>\n",
              "            <td>CRIM SEXUAL ASSAULT</td>\n",
              "        </tr>\n",
              "        <tr>\n",
              "            <td>SEX OFFENSE</td>\n",
              "        </tr>\n",
              "        <tr>\n",
              "            <td>INTERFERENCE WITH PUBLIC OFFICER</td>\n",
              "        </tr>\n",
              "        <tr>\n",
              "            <td>GAMBLING</td>\n",
              "        </tr>\n",
              "        <tr>\n",
              "            <td>LIQUOR LAW VIOLATION</td>\n",
              "        </tr>\n",
              "        <tr>\n",
              "            <td>ARSON</td>\n",
              "        </tr>\n",
              "        <tr>\n",
              "            <td>HOMICIDE</td>\n",
              "        </tr>\n",
              "        <tr>\n",
              "            <td>KIDNAPPING</td>\n",
              "        </tr>\n",
              "        <tr>\n",
              "            <td>INTIMIDATION</td>\n",
              "        </tr>\n",
              "        <tr>\n",
              "            <td>STALKING</td>\n",
              "        </tr>\n",
              "        <tr>\n",
              "            <td>OBSCENITY</td>\n",
              "        </tr>\n",
              "        <tr>\n",
              "            <td>CONCEALED CARRY LICENSE VIOLATION</td>\n",
              "        </tr>\n",
              "        <tr>\n",
              "            <td>PUBLIC INDECENCY</td>\n",
              "        </tr>\n",
              "        <tr>\n",
              "            <td>NON-CRIMINAL</td>\n",
              "        </tr>\n",
              "        <tr>\n",
              "            <td>OTHER NARCOTIC VIOLATION</td>\n",
              "        </tr>\n",
              "        <tr>\n",
              "            <td>HUMAN TRAFFICKING</td>\n",
              "        </tr>\n",
              "        <tr>\n",
              "            <td>NON - CRIMINAL</td>\n",
              "        </tr>\n",
              "        <tr>\n",
              "            <td>RITUALISM</td>\n",
              "        </tr>\n",
              "        <tr>\n",
              "            <td>NON-CRIMINAL (SUBJECT SPECIFIED)</td>\n",
              "        </tr>\n",
              "        <tr>\n",
              "            <td>DOMESTIC VIOLENCE</td>\n",
              "        </tr>\n",
              "    </tbody>\n",
              "</table>"
            ]
          },
          "metadata": {},
          "execution_count": 12
        }
      ]
    },
    {
      "cell_type": "code",
      "execution_count": 13,
      "metadata": {
        "colab": {
          "base_uri": "https://localhost:8080/",
          "height": 162
        },
        "id": "RJO7GQIKH37u",
        "outputId": "8d3c7340-4060-4788-839d-4919c95df4cd"
      },
      "outputs": [
        {
          "output_type": "stream",
          "name": "stdout",
          "text": [
            " * sqlite:///FinalDB.db\n",
            "Done.\n"
          ]
        },
        {
          "output_type": "execute_result",
          "data": {
            "text/plain": [
              "[('HN567387',), ('HR391350',), ('HM768251',), ('HT394616',)]"
            ],
            "text/html": [
              "<table>\n",
              "    <thead>\n",
              "        <tr>\n",
              "            <th>CASE_NUMBER</th>\n",
              "        </tr>\n",
              "    </thead>\n",
              "    <tbody>\n",
              "        <tr>\n",
              "            <td>HN567387</td>\n",
              "        </tr>\n",
              "        <tr>\n",
              "            <td>HR391350</td>\n",
              "        </tr>\n",
              "        <tr>\n",
              "            <td>HM768251</td>\n",
              "        </tr>\n",
              "        <tr>\n",
              "            <td>HT394616</td>\n",
              "        </tr>\n",
              "    </tbody>\n",
              "</table>"
            ]
          },
          "metadata": {},
          "execution_count": 13
        }
      ],
      "source": [
        "%sql SELECT CASE_NUMBER FROM CHICAGO_CRIME_DATA WHERE PRIMARY_TYPE = 'OFFENSE INVOLVING CHILDREN'"
      ]
    },
    {
      "cell_type": "markdown",
      "metadata": {
        "id": "LnCtqSObH37u"
      },
      "source": [
        "### Problem 4\n",
        "\n",
        "##### List all kidnapping crimes involving a child?\n",
        "##### 아이와 관련된 모든 납치 범죄를 나열"
      ]
    },
    {
      "cell_type": "code",
      "execution_count": 16,
      "metadata": {
        "colab": {
          "base_uri": "https://localhost:8080/",
          "height": 170
        },
        "id": "Pgg1D_pHH37u",
        "outputId": "fb1c1a0e-56ea-4d0f-a14d-9fbb9bb60ecb"
      },
      "outputs": [
        {
          "output_type": "stream",
          "name": "stdout",
          "text": [
            " * sqlite:///FinalDB.db\n",
            "Done.\n"
          ]
        },
        {
          "output_type": "execute_result",
          "data": {
            "text/plain": [
              "[(5276766, 'HN144152', '2007-01-26', '050XX W VAN BUREN ST', '1792', 'KIDNAPPING', 'CHILD ABDUCTION/STRANGER', 'STREET', 0, 0, 1533, 15, 29.0, 25.0, '20', 1143050.0, 1897546.0, 2007, 41.87490841, -87.75024931, '(41.874908413, -87.750249307)')]"
            ],
            "text/html": [
              "<table>\n",
              "    <thead>\n",
              "        <tr>\n",
              "            <th>ID</th>\n",
              "            <th>CASE_NUMBER</th>\n",
              "            <th>DATE</th>\n",
              "            <th>BLOCK</th>\n",
              "            <th>IUCR</th>\n",
              "            <th>PRIMARY_TYPE</th>\n",
              "            <th>DESCRIPTION</th>\n",
              "            <th>LOCATION_DESCRIPTION</th>\n",
              "            <th>ARREST</th>\n",
              "            <th>DOMESTIC</th>\n",
              "            <th>BEAT</th>\n",
              "            <th>DISTRICT</th>\n",
              "            <th>WARD</th>\n",
              "            <th>COMMUNITY_AREA_NUMBER</th>\n",
              "            <th>FBICODE</th>\n",
              "            <th>X_COORDINATE</th>\n",
              "            <th>Y_COORDINATE</th>\n",
              "            <th>YEAR</th>\n",
              "            <th>LATITUDE</th>\n",
              "            <th>LONGITUDE</th>\n",
              "            <th>LOCATION</th>\n",
              "        </tr>\n",
              "    </thead>\n",
              "    <tbody>\n",
              "        <tr>\n",
              "            <td>5276766</td>\n",
              "            <td>HN144152</td>\n",
              "            <td>2007-01-26</td>\n",
              "            <td>050XX W VAN BUREN ST</td>\n",
              "            <td>1792</td>\n",
              "            <td>KIDNAPPING</td>\n",
              "            <td>CHILD ABDUCTION/STRANGER</td>\n",
              "            <td>STREET</td>\n",
              "            <td>0</td>\n",
              "            <td>0</td>\n",
              "            <td>1533</td>\n",
              "            <td>15</td>\n",
              "            <td>29.0</td>\n",
              "            <td>25.0</td>\n",
              "            <td>20</td>\n",
              "            <td>1143050.0</td>\n",
              "            <td>1897546.0</td>\n",
              "            <td>2007</td>\n",
              "            <td>41.87490841</td>\n",
              "            <td>-87.75024931</td>\n",
              "            <td>(41.874908413, -87.750249307)</td>\n",
              "        </tr>\n",
              "    </tbody>\n",
              "</table>"
            ]
          },
          "metadata": {},
          "execution_count": 16
        }
      ],
      "source": [
        "%sql SELECT * FROM CHICAGO_CRIME_DATA WHERE PRIMARY_TYPE = 'KIDNAPPING'"
      ]
    },
    {
      "cell_type": "markdown",
      "metadata": {
        "id": "PB5LisV3H37u"
      },
      "source": [
        "### Problem 5\n",
        "\n",
        "##### List the kind of crimes that were recorded at schools. (No repetitions)\n",
        "##### 학교에서 기록된 범죄의 종류를 나열합니다. (반복 금지)"
      ]
    },
    {
      "cell_type": "code",
      "source": [
        "%sql select DISTINCT LOCATION_DESCRIPTION from CHICAGO_CRIME_DATA"
      ],
      "metadata": {
        "colab": {
          "base_uri": "https://localhost:8080/",
          "height": 1000
        },
        "id": "JFQKv5H1qgYM",
        "outputId": "f56e2cae-c702-443c-e4a8-8673d5429d9c"
      },
      "execution_count": 18,
      "outputs": [
        {
          "output_type": "stream",
          "name": "stdout",
          "text": [
            " * sqlite:///FinalDB.db\n",
            "Done.\n"
          ]
        },
        {
          "output_type": "execute_result",
          "data": {
            "text/plain": [
              "[('SMALL RETAIL STORE',),\n",
              " ('OTHER',),\n",
              " ('NURSING HOME/RETIREMENT HOME',),\n",
              " ('RESIDENCE',),\n",
              " ('ALLEY',),\n",
              " ('PARKING LOT/GARAGE(NON.RESID.)',),\n",
              " ('STREET',),\n",
              " ('GROCERY FOOD STORE',),\n",
              " ('DEPARTMENT STORE',),\n",
              " ('BAR OR TAVERN',),\n",
              " ('RESIDENTIAL YARD (FRONT/BACK)',),\n",
              " ('RESIDENCE PORCH/HALLWAY',),\n",
              " ('CTA PLATFORM',),\n",
              " ('VACANT LOT/LAND',),\n",
              " ('SIDEWALK',),\n",
              " ('ATHLETIC CLUB',),\n",
              " ('AIRPORT/AIRCRAFT',),\n",
              " ('APARTMENT',),\n",
              " ('MOVIE HOUSE/THEATER',),\n",
              " ('VEHICLE NON-COMMERCIAL',),\n",
              " ('RESTAURANT',),\n",
              " ('RESIDENCE-GARAGE',),\n",
              " ('COMMERCIAL / BUSINESS OFFICE',),\n",
              " ('TAVERN/LIQUOR STORE',),\n",
              " ('CONSTRUCTION SITE',),\n",
              " ('GAS STATION',),\n",
              " ('DRUG STORE',),\n",
              " ('CTA BUS',),\n",
              " ('SCHOOL, PUBLIC, GROUNDS',),\n",
              " ('SCHOOL, PUBLIC, BUILDING',),\n",
              " ('CHURCH/SYNAGOGUE/PLACE OF WORSHIP',),\n",
              " ('OTHER COMMERCIAL TRANSPORTATION',),\n",
              " ('CHA APARTMENT',),\n",
              " ('WAREHOUSE',),\n",
              " ('POLICE FACILITY/VEH PARKING LOT',),\n",
              " ('HOSPITAL BUILDING/GROUNDS',),\n",
              " ('FACTORY/MANUFACTURING BUILDING',),\n",
              " ('CLEANING STORE',),\n",
              " ('CTA TRAIN',),\n",
              " ('BANK',),\n",
              " ('CHA PARKING LOT/GROUNDS',),\n",
              " ('LIBRARY',),\n",
              " ('CHA HALLWAY/STAIRWELL/ELEVATOR',),\n",
              " ('COLLEGE/UNIVERSITY GROUNDS',),\n",
              " ('SCHOOL, PRIVATE, BUILDING',),\n",
              " ('CONVENIENCE STORE',),\n",
              " ('HOUSE',),\n",
              " ('GOVERNMENT BUILDING/PROPERTY',)]"
            ],
            "text/html": [
              "<table>\n",
              "    <thead>\n",
              "        <tr>\n",
              "            <th>LOCATION_DESCRIPTION</th>\n",
              "        </tr>\n",
              "    </thead>\n",
              "    <tbody>\n",
              "        <tr>\n",
              "            <td>SMALL RETAIL STORE</td>\n",
              "        </tr>\n",
              "        <tr>\n",
              "            <td>OTHER</td>\n",
              "        </tr>\n",
              "        <tr>\n",
              "            <td>NURSING HOME/RETIREMENT HOME</td>\n",
              "        </tr>\n",
              "        <tr>\n",
              "            <td>RESIDENCE</td>\n",
              "        </tr>\n",
              "        <tr>\n",
              "            <td>ALLEY</td>\n",
              "        </tr>\n",
              "        <tr>\n",
              "            <td>PARKING LOT/GARAGE(NON.RESID.)</td>\n",
              "        </tr>\n",
              "        <tr>\n",
              "            <td>STREET</td>\n",
              "        </tr>\n",
              "        <tr>\n",
              "            <td>GROCERY FOOD STORE</td>\n",
              "        </tr>\n",
              "        <tr>\n",
              "            <td>DEPARTMENT STORE</td>\n",
              "        </tr>\n",
              "        <tr>\n",
              "            <td>BAR OR TAVERN</td>\n",
              "        </tr>\n",
              "        <tr>\n",
              "            <td>RESIDENTIAL YARD (FRONT/BACK)</td>\n",
              "        </tr>\n",
              "        <tr>\n",
              "            <td>RESIDENCE PORCH/HALLWAY</td>\n",
              "        </tr>\n",
              "        <tr>\n",
              "            <td>CTA PLATFORM</td>\n",
              "        </tr>\n",
              "        <tr>\n",
              "            <td>VACANT LOT/LAND</td>\n",
              "        </tr>\n",
              "        <tr>\n",
              "            <td>SIDEWALK</td>\n",
              "        </tr>\n",
              "        <tr>\n",
              "            <td>ATHLETIC CLUB</td>\n",
              "        </tr>\n",
              "        <tr>\n",
              "            <td>AIRPORT/AIRCRAFT</td>\n",
              "        </tr>\n",
              "        <tr>\n",
              "            <td>APARTMENT</td>\n",
              "        </tr>\n",
              "        <tr>\n",
              "            <td>MOVIE HOUSE/THEATER</td>\n",
              "        </tr>\n",
              "        <tr>\n",
              "            <td>VEHICLE NON-COMMERCIAL</td>\n",
              "        </tr>\n",
              "        <tr>\n",
              "            <td>RESTAURANT</td>\n",
              "        </tr>\n",
              "        <tr>\n",
              "            <td>RESIDENCE-GARAGE</td>\n",
              "        </tr>\n",
              "        <tr>\n",
              "            <td>COMMERCIAL / BUSINESS OFFICE</td>\n",
              "        </tr>\n",
              "        <tr>\n",
              "            <td>TAVERN/LIQUOR STORE</td>\n",
              "        </tr>\n",
              "        <tr>\n",
              "            <td>CONSTRUCTION SITE</td>\n",
              "        </tr>\n",
              "        <tr>\n",
              "            <td>GAS STATION</td>\n",
              "        </tr>\n",
              "        <tr>\n",
              "            <td>DRUG STORE</td>\n",
              "        </tr>\n",
              "        <tr>\n",
              "            <td>CTA BUS</td>\n",
              "        </tr>\n",
              "        <tr>\n",
              "            <td>SCHOOL, PUBLIC, GROUNDS</td>\n",
              "        </tr>\n",
              "        <tr>\n",
              "            <td>SCHOOL, PUBLIC, BUILDING</td>\n",
              "        </tr>\n",
              "        <tr>\n",
              "            <td>CHURCH/SYNAGOGUE/PLACE OF WORSHIP</td>\n",
              "        </tr>\n",
              "        <tr>\n",
              "            <td>OTHER COMMERCIAL TRANSPORTATION</td>\n",
              "        </tr>\n",
              "        <tr>\n",
              "            <td>CHA APARTMENT</td>\n",
              "        </tr>\n",
              "        <tr>\n",
              "            <td>WAREHOUSE</td>\n",
              "        </tr>\n",
              "        <tr>\n",
              "            <td>POLICE FACILITY/VEH PARKING LOT</td>\n",
              "        </tr>\n",
              "        <tr>\n",
              "            <td>HOSPITAL BUILDING/GROUNDS</td>\n",
              "        </tr>\n",
              "        <tr>\n",
              "            <td>FACTORY/MANUFACTURING BUILDING</td>\n",
              "        </tr>\n",
              "        <tr>\n",
              "            <td>CLEANING STORE</td>\n",
              "        </tr>\n",
              "        <tr>\n",
              "            <td>CTA TRAIN</td>\n",
              "        </tr>\n",
              "        <tr>\n",
              "            <td>BANK</td>\n",
              "        </tr>\n",
              "        <tr>\n",
              "            <td>CHA PARKING LOT/GROUNDS</td>\n",
              "        </tr>\n",
              "        <tr>\n",
              "            <td>LIBRARY</td>\n",
              "        </tr>\n",
              "        <tr>\n",
              "            <td>CHA HALLWAY/STAIRWELL/ELEVATOR</td>\n",
              "        </tr>\n",
              "        <tr>\n",
              "            <td>COLLEGE/UNIVERSITY GROUNDS</td>\n",
              "        </tr>\n",
              "        <tr>\n",
              "            <td>SCHOOL, PRIVATE, BUILDING</td>\n",
              "        </tr>\n",
              "        <tr>\n",
              "            <td>CONVENIENCE STORE</td>\n",
              "        </tr>\n",
              "        <tr>\n",
              "            <td>HOUSE</td>\n",
              "        </tr>\n",
              "        <tr>\n",
              "            <td>GOVERNMENT BUILDING/PROPERTY</td>\n",
              "        </tr>\n",
              "    </tbody>\n",
              "</table>"
            ]
          },
          "metadata": {},
          "execution_count": 18
        }
      ]
    },
    {
      "cell_type": "code",
      "execution_count": 20,
      "metadata": {
        "colab": {
          "base_uri": "https://localhost:8080/",
          "height": 204
        },
        "id": "TMNbWmgGH37u",
        "outputId": "8c2045ef-61cb-408d-a0b8-b31f3adcc0ec"
      },
      "outputs": [
        {
          "output_type": "stream",
          "name": "stdout",
          "text": [
            " * sqlite:///FinalDB.db\n",
            "Done.\n"
          ]
        },
        {
          "output_type": "execute_result",
          "data": {
            "text/plain": [
              "[('BATTERY',),\n",
              " ('CRIMINAL DAMAGE',),\n",
              " ('NARCOTICS',),\n",
              " ('ASSAULT',),\n",
              " ('CRIMINAL TRESPASS',),\n",
              " ('PUBLIC PEACE VIOLATION',)]"
            ],
            "text/html": [
              "<table>\n",
              "    <thead>\n",
              "        <tr>\n",
              "            <th>PRIMARY_TYPE</th>\n",
              "        </tr>\n",
              "    </thead>\n",
              "    <tbody>\n",
              "        <tr>\n",
              "            <td>BATTERY</td>\n",
              "        </tr>\n",
              "        <tr>\n",
              "            <td>CRIMINAL DAMAGE</td>\n",
              "        </tr>\n",
              "        <tr>\n",
              "            <td>NARCOTICS</td>\n",
              "        </tr>\n",
              "        <tr>\n",
              "            <td>ASSAULT</td>\n",
              "        </tr>\n",
              "        <tr>\n",
              "            <td>CRIMINAL TRESPASS</td>\n",
              "        </tr>\n",
              "        <tr>\n",
              "            <td>PUBLIC PEACE VIOLATION</td>\n",
              "        </tr>\n",
              "    </tbody>\n",
              "</table>"
            ]
          },
          "metadata": {},
          "execution_count": 20
        }
      ],
      "source": [
        "%sql SELECT DISTINCT PRIMARY_TYPE FROM CHICAGO_CRIME_DATA WHERE LOCATION_DESCRIPTION LIKE '%SCHOOL%'"
      ]
    },
    {
      "cell_type": "markdown",
      "metadata": {
        "id": "oHTOyYfaH37u"
      },
      "source": [
        "### Problem 6\n",
        "\n",
        "##### List the type of schools along with the average safety score for each type.\n",
        "##### 각 유형별 평균 안전 점수와 함께 학교 유형을 나열"
      ]
    },
    {
      "cell_type": "code",
      "execution_count": 22,
      "metadata": {
        "colab": {
          "base_uri": "https://localhost:8080/",
          "height": 140
        },
        "id": "HPFuN-PnH37u",
        "outputId": "dc071647-cee2-4183-d169-6da969070418"
      },
      "outputs": [
        {
          "output_type": "stream",
          "name": "stdout",
          "text": [
            " * sqlite:///FinalDB.db\n",
            "Done.\n"
          ]
        },
        {
          "output_type": "execute_result",
          "data": {
            "text/plain": [
              "[('ES', 49.52038369304557), ('HS', 49.62352941176471), ('MS', 48.0)]"
            ],
            "text/html": [
              "<table>\n",
              "    <thead>\n",
              "        <tr>\n",
              "            <th>Elementary, Middle, or High School</th>\n",
              "            <th>AVG(SAFETY_SCORE)</th>\n",
              "        </tr>\n",
              "    </thead>\n",
              "    <tbody>\n",
              "        <tr>\n",
              "            <td>ES</td>\n",
              "            <td>49.52038369304557</td>\n",
              "        </tr>\n",
              "        <tr>\n",
              "            <td>HS</td>\n",
              "            <td>49.62352941176471</td>\n",
              "        </tr>\n",
              "        <tr>\n",
              "            <td>MS</td>\n",
              "            <td>48.0</td>\n",
              "        </tr>\n",
              "    </tbody>\n",
              "</table>"
            ]
          },
          "metadata": {},
          "execution_count": 22
        }
      ],
      "source": [
        "%sql SELECT \"Elementary, Middle, or High School\", AVG(SAFETY_SCORE) FROM CHICAGO_PUBLIC_SCHOOLS GROUP BY \"Elementary, Middle, or High School\""
      ]
    },
    {
      "cell_type": "markdown",
      "metadata": {
        "id": "PI0cfvPtH37v"
      },
      "source": [
        "### Problem 7\n",
        "\n",
        "##### List 5 community areas with highest % of households below poverty line\n",
        "##### 빈곤선 이하 가구 비율이 가장 높은 지역 5개 지역 목록"
      ]
    },
    {
      "cell_type": "code",
      "execution_count": 23,
      "metadata": {
        "colab": {
          "base_uri": "https://localhost:8080/",
          "height": 183
        },
        "id": "0XDhpk7bH37v",
        "outputId": "c92e57bf-3153-40a8-b67a-f8bafdbc5905"
      },
      "outputs": [
        {
          "output_type": "stream",
          "name": "stdout",
          "text": [
            " * sqlite:///FinalDB.db\n",
            "Done.\n"
          ]
        },
        {
          "output_type": "execute_result",
          "data": {
            "text/plain": [
              "[('Riverdale', 56.5),\n",
              " ('Fuller Park', 51.2),\n",
              " ('Englewood', 46.6),\n",
              " ('North Lawndale', 43.1),\n",
              " ('East Garfield Park', 42.4)]"
            ],
            "text/html": [
              "<table>\n",
              "    <thead>\n",
              "        <tr>\n",
              "            <th>COMMUNITY_AREA_NAME</th>\n",
              "            <th>PERCENT_HOUSEHOLDS_BELOW_POVERTY</th>\n",
              "        </tr>\n",
              "    </thead>\n",
              "    <tbody>\n",
              "        <tr>\n",
              "            <td>Riverdale</td>\n",
              "            <td>56.5</td>\n",
              "        </tr>\n",
              "        <tr>\n",
              "            <td>Fuller Park</td>\n",
              "            <td>51.2</td>\n",
              "        </tr>\n",
              "        <tr>\n",
              "            <td>Englewood</td>\n",
              "            <td>46.6</td>\n",
              "        </tr>\n",
              "        <tr>\n",
              "            <td>North Lawndale</td>\n",
              "            <td>43.1</td>\n",
              "        </tr>\n",
              "        <tr>\n",
              "            <td>East Garfield Park</td>\n",
              "            <td>42.4</td>\n",
              "        </tr>\n",
              "    </tbody>\n",
              "</table>"
            ]
          },
          "metadata": {},
          "execution_count": 23
        }
      ],
      "source": [
        "%sql SELECT COMMUNITY_AREA_NAME, PERCENT_HOUSEHOLDS_BELOW_POVERTY FROM CENSUS_DATA ORDER BY PERCENT_HOUSEHOLDS_BELOW_POVERTY DESC LIMIT 5"
      ]
    },
    {
      "cell_type": "markdown",
      "metadata": {
        "id": "sE2TAVfWH37v"
      },
      "source": [
        "### Problem 8\n",
        "\n",
        "##### Which community area is most crime prone? Display the coumminty area number only.\n",
        "##### 범죄가 가장 많이 발생하기 쉬운 지역은? 지역 번호만 표시합니다."
      ]
    },
    {
      "cell_type": "code",
      "execution_count": 30,
      "metadata": {
        "colab": {
          "base_uri": "https://localhost:8080/",
          "height": 97
        },
        "id": "KvT03OsCH37v",
        "outputId": "6c880cd3-1689-4602-bcd9-cc40cb70fd8b"
      },
      "outputs": [
        {
          "output_type": "stream",
          "name": "stdout",
          "text": [
            " * sqlite:///FinalDB.db\n",
            "Done.\n"
          ]
        },
        {
          "output_type": "execute_result",
          "data": {
            "text/plain": [
              "[(25.0,)]"
            ],
            "text/html": [
              "<table>\n",
              "    <thead>\n",
              "        <tr>\n",
              "            <th>COMMUNITY_AREA_NUMBER</th>\n",
              "        </tr>\n",
              "    </thead>\n",
              "    <tbody>\n",
              "        <tr>\n",
              "            <td>25.0</td>\n",
              "        </tr>\n",
              "    </tbody>\n",
              "</table>"
            ]
          },
          "metadata": {},
          "execution_count": 30
        }
      ],
      "source": [
        "%sql SELECT COMMUNITY_AREA_NUMBER FROM CHICAGO_CRIME_DATA GROUP BY COMMUNITY_AREA_NUMBER ORDER BY COUNT(*) DESC LIMIT 1"
      ]
    },
    {
      "cell_type": "markdown",
      "metadata": {
        "id": "N0vNBD9HH37v"
      },
      "source": [
        "\n",
        "Double-click **here** for a hint\n",
        "\n",
        "<!--\n",
        "가장 많은 사건이 발생한 'community area number'를 쿼리하자\n",
        "-->\n"
      ]
    },
    {
      "cell_type": "markdown",
      "metadata": {
        "id": "oIJz0C0IH37v"
      },
      "source": [
        "### Problem 9\n",
        "\n",
        "##### Use a sub-query to find the name of the community area with highest hardship index\n",
        "##### 하위 쿼리를 사용하여 고난도 지수가 가장 높은 커뮤니티 영역의 이름 찾기"
      ]
    },
    {
      "cell_type": "code",
      "execution_count": 31,
      "metadata": {
        "colab": {
          "base_uri": "https://localhost:8080/",
          "height": 97
        },
        "id": "5NFfgcmeH37v",
        "outputId": "41757430-851c-4514-b329-7073c02a89ec"
      },
      "outputs": [
        {
          "output_type": "stream",
          "name": "stdout",
          "text": [
            " * sqlite:///FinalDB.db\n",
            "Done.\n"
          ]
        },
        {
          "output_type": "execute_result",
          "data": {
            "text/plain": [
              "[('Riverdale',)]"
            ],
            "text/html": [
              "<table>\n",
              "    <thead>\n",
              "        <tr>\n",
              "            <th>COMMUNITY_AREA_NAME</th>\n",
              "        </tr>\n",
              "    </thead>\n",
              "    <tbody>\n",
              "        <tr>\n",
              "            <td>Riverdale</td>\n",
              "        </tr>\n",
              "    </tbody>\n",
              "</table>"
            ]
          },
          "metadata": {},
          "execution_count": 31
        }
      ],
      "source": [
        "%sql SELECT COMMUNITY_AREA_NAME FROM CENSUS_DATA WHERE HARDSHIP_INDEX = (SELECT MAX(HARDSHIP_INDEX) FROM CENSUS_DATA)"
      ]
    },
    {
      "cell_type": "markdown",
      "metadata": {
        "id": "ZWejnbZyH37v"
      },
      "source": [
        "### Problem 10\n",
        "\n",
        "##### Use a sub-query to determine the Community Area Name with most number of crimes?\n",
        "##### 하위 쿼리를 사용하여 범죄가 가장 많은 커뮤니티 영역 이름을 나타내시오."
      ]
    },
    {
      "cell_type": "code",
      "execution_count": 32,
      "metadata": {
        "colab": {
          "base_uri": "https://localhost:8080/",
          "height": 97
        },
        "id": "CHeVeIC4H37v",
        "outputId": "412ef997-18d6-492b-dd79-3fcf1f159add"
      },
      "outputs": [
        {
          "output_type": "stream",
          "name": "stdout",
          "text": [
            " * sqlite:///FinalDB.db\n",
            "Done.\n"
          ]
        },
        {
          "output_type": "execute_result",
          "data": {
            "text/plain": [
              "[('Austin',)]"
            ],
            "text/html": [
              "<table>\n",
              "    <thead>\n",
              "        <tr>\n",
              "            <th>COMMUNITY_AREA_NAME</th>\n",
              "        </tr>\n",
              "    </thead>\n",
              "    <tbody>\n",
              "        <tr>\n",
              "            <td>Austin</td>\n",
              "        </tr>\n",
              "    </tbody>\n",
              "</table>"
            ]
          },
          "metadata": {},
          "execution_count": 32
        }
      ],
      "source": [
        "%sql SELECT COMMUNITY_AREA_NAME \\\n",
        "FROM CENSUS_DATA \\\n",
        "WHERE COMMUNITY_AREA_NUMBER = ( \\\n",
        "    SELECT COMMUNITY_AREA_NUMBER \\\n",
        "    FROM CHICAGO_CRIME_DATA \\\n",
        "    GROUP BY COMMUNITY_AREA_NUMBER \\\n",
        "    ORDER BY COUNT(*) DESC \\\n",
        "    LIMIT 1 \\\n",
        ");"
      ]
    }
  ],
  "metadata": {
    "kernelspec": {
      "display_name": "Python",
      "language": "python",
      "name": "conda-env-python-py"
    },
    "language_info": {
      "codemirror_mode": {
        "name": "ipython",
        "version": 3
      },
      "file_extension": ".py",
      "mimetype": "text/x-python",
      "name": "python",
      "nbconvert_exporter": "python",
      "pygments_lexer": "ipython3",
      "version": "3.7.12"
    },
    "prev_pub_hash": "3c6bc487a66d442614b3071a4d6ea7fa0785b37ce97cb46f3bcb7a9010c84b6f",
    "colab": {
      "provenance": [],
      "include_colab_link": true
    }
  },
  "nbformat": 4,
  "nbformat_minor": 0
}